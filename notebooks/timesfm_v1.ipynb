{
 "cells": [
  {
   "cell_type": "code",
   "execution_count": 19,
   "id": "8ed26333-5165-4822-92c9-6fc610b8f4e7",
   "metadata": {},
   "outputs": [],
   "source": [
    "import sys\n",
    "import os\n",
    "\n",
    "sys.path.append(os.path.abspath(\"..\"))"
   ]
  },
  {
   "cell_type": "code",
   "execution_count": 30,
   "id": "cabd0cd9-8e6c-4a06-9a44-894f79ad341a",
   "metadata": {},
   "outputs": [],
   "source": [
    "from src.forecasting_pipeline_timesfm import forecast_crypto_prices\n",
    "from src.evaluate_forecasts import evaluate_forecasts\n",
    "from config.config import DATA_DIR\n",
    "from src.data_loading import load_crypto_data, preprocess_data, split_data\n",
    "\n",
    "OUTPUTS_DIR = os.path.join(DATA_DIR, 'outputs')\n",
    "os.makedirs(OUTPUTS_DIR, exist_ok=True)"
   ]
  },
  {
   "cell_type": "code",
   "execution_count": 31,
   "id": "8a1b94ef-605c-401e-98c9-9cf5ed241a02",
   "metadata": {},
   "outputs": [
    {
     "name": "stderr",
     "output_type": "stream",
     "text": [
      "Fetching 3 files: 100%|██████████████████████████████████████████████████████████████████████████| 3/3 [00:00<?, ?it/s]\n"
     ]
    },
    {
     "name": "stdout",
     "output_type": "stream",
     "text": [
      "Forecasts for BTC-USD saved to C:\\Studies\\Other_Repos\\ts_foundational_models_daily_crpytocurrency_predictions\\data\\outputs\\BTC-USD_forecasts.csv\n"
     ]
    },
    {
     "name": "stderr",
     "output_type": "stream",
     "text": [
      "Fetching 3 files: 100%|████████████████████████████████████████████████████████████████| 3/3 [00:00<00:00, 5860.69it/s]\n"
     ]
    },
    {
     "name": "stdout",
     "output_type": "stream",
     "text": [
      "Forecasts for BNB-USD saved to C:\\Studies\\Other_Repos\\ts_foundational_models_daily_crpytocurrency_predictions\\data\\outputs\\BNB-USD_forecasts.csv\n"
     ]
    },
    {
     "name": "stderr",
     "output_type": "stream",
     "text": [
      "Fetching 3 files: 100%|██████████████████████████████████████████████████████████████████████████| 3/3 [00:00<?, ?it/s]\n"
     ]
    },
    {
     "name": "stdout",
     "output_type": "stream",
     "text": [
      "Forecasts for ETH-USD saved to C:\\Studies\\Other_Repos\\ts_foundational_models_daily_crpytocurrency_predictions\\data\\outputs\\ETH-USD_forecasts.csv\n"
     ]
    },
    {
     "name": "stderr",
     "output_type": "stream",
     "text": [
      "Fetching 3 files: 100%|██████████████████████████████████████████████████████████████████████████| 3/3 [00:00<?, ?it/s]\n"
     ]
    },
    {
     "name": "stdout",
     "output_type": "stream",
     "text": [
      "Forecasts for SOL-USD saved to C:\\Studies\\Other_Repos\\ts_foundational_models_daily_crpytocurrency_predictions\\data\\outputs\\SOL-USD_forecasts.csv\n",
      "\n",
      "Evaluation Results:\n",
      "{'BTC-USD': {'test': {'MAPE': 34.960197684642, 'ME': 24695.05951067281, 'MAE': 24982.439328978824, 'MPE': 34.26637829912371, 'RMSE': 28862.871139636267, 'R': -0.10327547478809575, 'Scalar Product': -8902604.158113396, 'Return Score': 0.4876712328767123, 'Long Return': 0.531578947368421, 'Short Return': 0.44, 'Mean Directional Accuracy': 0.4876712328767123, 'Mean Directional Accuracy Positive': 0.531578947368421, 'Mean Directional Accuracy Negative': 0.44}}, 'BNB-USD': {'test': {'MAPE': 38.0805655497955, 'ME': 220.99867363737513, 'MAE': 223.2652957390657, 'MPE': 37.331739063379686, 'RMSE': 246.45696062139618, 'R': 0.23411822919569264, 'Scalar Product': -332.5866364334165, 'Return Score': 0.5178082191780822, 'Long Return': 0.5026178010471204, 'Short Return': 0.5344827586206896, 'Mean Directional Accuracy': 0.5178082191780822, 'Mean Directional Accuracy Positive': 0.5026178010471204, 'Mean Directional Accuracy Negative': 0.5344827586206896}}, 'ETH-USD': {'test': {'MAPE': 22.6261380049162, 'ME': 746.5258892876964, 'MAE': 760.9807746019039, 'MPE': 21.994259099704188, 'RMSE': 945.5885900805706, 'R': -0.3664131208890548, 'Scalar Product': -24126.881839233163, 'Return Score': 0.5041095890410959, 'Long Return': 0.6178010471204188, 'Short Return': 0.3793103448275862, 'Mean Directional Accuracy': 0.5041095890410959, 'Mean Directional Accuracy Positive': 0.6178010471204188, 'Mean Directional Accuracy Negative': 0.3793103448275862}}, 'SOL-USD': {'test': {'MAPE': 37.4452698059717, 'ME': 59.76475474575489, 'MAE': 62.581250089921134, 'MPE': 34.456473968800296, 'RMSE': 70.9419423376079, 'R': 0.04861732545015563, 'Scalar Product': 2.9854994230419294, 'Return Score': 0.5205479452054794, 'Long Return': 0.56353591160221, 'Short Return': 0.4782608695652174, 'Mean Directional Accuracy': 0.5205479452054794, 'Mean Directional Accuracy Positive': 0.56353591160221, 'Mean Directional Accuracy Negative': 0.4782608695652174}}}\n",
      "\n",
      "--- BTC-USD ---\n",
      "Test Set Metrics:\n",
      "MAPE: 34.960197684642\n",
      "ME: 24695.05951067281\n",
      "MAE: 24982.439328978824\n",
      "MPE: 34.26637829912371\n",
      "RMSE: 28862.871139636267\n",
      "R: -0.10327547478809575\n",
      "Scalar Product: -8902604.158113396\n",
      "Return Score: 0.4876712328767123\n",
      "Long Return: 0.531578947368421\n",
      "Short Return: 0.44\n",
      "Mean Directional Accuracy: 0.4876712328767123\n",
      "Mean Directional Accuracy Positive: 0.531578947368421\n",
      "Mean Directional Accuracy Negative: 0.44\n",
      "Train Set Metrics:\n",
      "\n",
      "--- BNB-USD ---\n",
      "Test Set Metrics:\n",
      "MAPE: 38.0805655497955\n",
      "ME: 220.99867363737513\n",
      "MAE: 223.2652957390657\n",
      "MPE: 37.331739063379686\n",
      "RMSE: 246.45696062139618\n",
      "R: 0.23411822919569264\n",
      "Scalar Product: -332.5866364334165\n",
      "Return Score: 0.5178082191780822\n",
      "Long Return: 0.5026178010471204\n",
      "Short Return: 0.5344827586206896\n",
      "Mean Directional Accuracy: 0.5178082191780822\n",
      "Mean Directional Accuracy Positive: 0.5026178010471204\n",
      "Mean Directional Accuracy Negative: 0.5344827586206896\n",
      "Train Set Metrics:\n",
      "\n",
      "--- ETH-USD ---\n",
      "Test Set Metrics:\n",
      "MAPE: 22.6261380049162\n",
      "ME: 746.5258892876964\n",
      "MAE: 760.9807746019039\n",
      "MPE: 21.994259099704188\n",
      "RMSE: 945.5885900805706\n",
      "R: -0.3664131208890548\n",
      "Scalar Product: -24126.881839233163\n",
      "Return Score: 0.5041095890410959\n",
      "Long Return: 0.6178010471204188\n",
      "Short Return: 0.3793103448275862\n",
      "Mean Directional Accuracy: 0.5041095890410959\n",
      "Mean Directional Accuracy Positive: 0.6178010471204188\n",
      "Mean Directional Accuracy Negative: 0.3793103448275862\n",
      "Train Set Metrics:\n",
      "\n",
      "--- SOL-USD ---\n",
      "Test Set Metrics:\n",
      "MAPE: 37.4452698059717\n",
      "ME: 59.76475474575489\n",
      "MAE: 62.581250089921134\n",
      "MPE: 34.456473968800296\n",
      "RMSE: 70.9419423376079\n",
      "R: 0.04861732545015563\n",
      "Scalar Product: 2.9854994230419294\n",
      "Return Score: 0.5205479452054794\n",
      "Long Return: 0.56353591160221\n",
      "Short Return: 0.4782608695652174\n",
      "Mean Directional Accuracy: 0.5205479452054794\n",
      "Mean Directional Accuracy Positive: 0.56353591160221\n",
      "Mean Directional Accuracy Negative: 0.4782608695652174\n",
      "Train Set Metrics:\n"
     ]
    }
   ],
   "source": [
    "crypto_symbols = ['BTC-USD', 'BNB-USD', 'ETH-USD', 'SOL-USD']\n",
    "data_directory = DATA_DIR\n",
    "train_end_date = \"2023-12-31\"\n",
    "\n",
    "if not os.path.exists(os.path.join(data_directory, 'raw')):\n",
    "    print(f\"Error: '{DATA_DIR}\\raw' directory not found.\")\n",
    "else:\n",
    "    # Generate forecasts and save results\n",
    "    forecast_results = forecast_crypto_prices(crypto_symbols, data_directory, train_end_date)\n",
    "\n",
    "    # Evaluate the forecasts\n",
    "    evaluation_results = evaluate_forecasts(OUTPUTS_DIR, crypto_symbols,\"Forecasted_Close\", \"Close\")\n",
    "\n",
    "    # Print the evaluation results\n",
    "    print(\"\\nEvaluation Results:\")\n",
    "    print(evaluation_results)\n",
    "    for symbol, metrics in evaluation_results.items():\n",
    "        print(f\"\\n--- {symbol} ---\")\n",
    "        print(\"Test Set Metrics:\")\n",
    "        for metric, value in metrics.get('test', {}).items():\n",
    "            print(f\"{metric}: {value}\")\n",
    "        print(\"Train Set Metrics:\") # Note: Train set evaluation might be limited with this forecasting approach\n",
    "        for metric, value in metrics.get('train', {}).items():\n",
    "            print(f\"{metric}: {value}\")"
   ]
  },
  {
   "cell_type": "code",
   "execution_count": null,
   "id": "37d578fe-4ee7-4b7d-be60-58ee157bb83d",
   "metadata": {},
   "outputs": [],
   "source": []
  }
 ],
 "metadata": {
  "kernelspec": {
   "display_name": "capstone_env",
   "language": "python",
   "name": "capstone_env"
  },
  "language_info": {
   "codemirror_mode": {
    "name": "ipython",
    "version": 3
   },
   "file_extension": ".py",
   "mimetype": "text/x-python",
   "name": "python",
   "nbconvert_exporter": "python",
   "pygments_lexer": "ipython3",
   "version": "3.11.11"
  }
 },
 "nbformat": 4,
 "nbformat_minor": 5
}
